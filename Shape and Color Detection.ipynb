{
 "cells": [
  {
   "cell_type": "code",
   "execution_count": 4,
   "id": "bd5a2ca8-be70-45b9-8c00-0efb7450a332",
   "metadata": {},
   "outputs": [
    {
     "name": "stdout",
     "output_type": "stream",
     "text": [
      "Requirement already satisfied: opencv-python in d:\\downloads\\anaconda\\lib\\site-packages (4.10.0.84)\n",
      "Requirement already satisfied: numpy>=1.21.2 in d:\\downloads\\anaconda\\lib\\site-packages (from opencv-python) (1.26.4)\n"
     ]
    }
   ],
   "source": [
    "!pip install opencv-python"
   ]
  },
  {
   "cell_type": "code",
   "execution_count": 1,
   "id": "6d5cd1b9-3f8e-4c9c-8fbc-ac6089a07f82",
   "metadata": {},
   "outputs": [
    {
     "data": {
      "text/plain": [
       "-1"
      ]
     },
     "execution_count": 1,
     "metadata": {},
     "output_type": "execute_result"
    }
   ],
   "source": [
    "import cv2\n",
    "import numpy as np\n",
    "\n",
    "# Load the image\n",
    "image = cv2.imread('test.jpg')\n",
    "# Create a resizable window\n",
    "cv2.namedWindow('image', cv2.WINDOW_NORMAL)\n",
    "# Resize the window (you can adjust the size as needed)\n",
    "cv2.resizeWindow('image', 800, 600)  # Adjust the width and height\n",
    "cv2.imshow('image',image)\n",
    "cv2.waitKey(0)"
   ]
  },
  {
   "cell_type": "code",
   "execution_count": 2,
   "id": "b91bb67c-c967-44e5-b76a-2b2da1f49314",
   "metadata": {},
   "outputs": [],
   "source": [
    "\n",
    "# Convert the image from BGR to HSV color space\n",
    "img_HSV = cv2.cvtColor(image, cv2.COLOR_BGR2HSV)\n",
    "\n",
    "# Define color ranges (HSV format) for red, green, blue, and yellow\n",
    "color_ranges = {\n",
    "    \"Red\": ([0, 100, 100], [10, 255, 255]),\n",
    "    \"Green\": ([36, 100, 100], [86, 255, 255]),\n",
    "    \"Blue\": ([100, 100, 100], [140, 255, 255]),\n",
    "    \"Yellow\": ([20, 100, 100], [30, 255, 255])\n",
    "}\n",
    "\n",
    "# Iterate over the color ranges to create masks and detect shapes\n",
    "for color_name, (lower, upper) in color_ranges.items():\n",
    "    # Convert to NumPy arrays for the lower and upper bounds\n",
    "    lower_bound = np.array(lower, dtype=\"uint8\")\n",
    "    upper_bound = np.array(upper, dtype=\"uint8\")\n",
    "\n",
    "    # Create a mask for the current color\n",
    "    mask = cv2.inRange(img_HSV, lower_bound, upper_bound)\n",
    "    \n",
    "    # blur the mask to reduce noise\n",
    "    mask = cv2.GaussianBlur(mask, (5, 5), 0) \n",
    "\n",
    "    # Find contours in the mask\n",
    "    contours, _ = cv2.findContours(mask, cv2.RETR_EXTERNAL, cv2.CHAIN_APPROX_SIMPLE)\n",
    "\n",
    "    for contour in contours:\n",
    "        # Approximate the contour to a polygon\n",
    "        epsilon = 0.011 * cv2.arcLength(contour, True)\n",
    "        approx = cv2.approxPolyDP(contour, epsilon, True)\n",
    "        \n",
    "        # Draw the contour and approximate polygon\n",
    "        cv2.drawContours(image, [approx], 0, (0, 0, 0), 5)\n",
    "        \n",
    "        # Find the center of the shape to label it\n",
    "        M = cv2.moments(contour)\n",
    "        if M[\"m00\"] != 0:\n",
    "            cx = int(M[\"m10\"] / M[\"m00\"])\n",
    "            cy = int(M[\"m01\"] / M[\"m00\"])\n",
    "        \n",
    "            # Label the color of the shape\n",
    "            cv2.putText(image, color_name, (cx - 50, cy + 10), cv2.FONT_HERSHEY_SIMPLEX, 1.2, (0, 0, 0), 3)\n",
    "        \n",
    "        # Shape detection based on the number of vertices\n",
    "        x, y, w, h = cv2.boundingRect(approx)\n",
    "        aspectRatio = float(w) / h\n",
    "        \n",
    "        if len(approx) == 3:\n",
    "            cv2.putText(image, \"Triangle\", (x, y - 5), cv2.FONT_HERSHEY_COMPLEX, 1.5, (0, 0, 0), 2)\n",
    "        elif len(approx) == 4:\n",
    "            if 0.95 <= aspectRatio <= 1.05:\n",
    "                cv2.putText(image, \"Square\", (x, y - 20), cv2.FONT_HERSHEY_COMPLEX, 1.5, (0, 0, 0), 2)\n",
    "            else:\n",
    "                cv2.putText(image, \"Rectangle\", (x+10, y - 10), cv2.FONT_HERSHEY_COMPLEX, 1.3, (0, 0, 0), 2)\n",
    "        else:\n",
    "            cv2.putText(image, \"Circle\", (x + 70, y - 10), cv2.FONT_HERSHEY_COMPLEX, 1.5, (0, 0, 0), 2)\n",
    "\n",
    "# Display the output image\n",
    "cv2.namedWindow('image', cv2.WINDOW_NORMAL)\n",
    "cv2.resizeWindow('image', 800, 600)  # Adjust the width and height\n",
    "cv2.imshow('image', image)\n",
    "cv2.waitKey(0)\n",
    "cv2.destroyAllWindows()\n"
   ]
  }
 ],
 "metadata": {
  "kernelspec": {
   "display_name": "Python 3 (ipykernel)",
   "language": "python",
   "name": "python3"
  },
  "language_info": {
   "codemirror_mode": {
    "name": "ipython",
    "version": 3
   },
   "file_extension": ".py",
   "mimetype": "text/x-python",
   "name": "python",
   "nbconvert_exporter": "python",
   "pygments_lexer": "ipython3",
   "version": "3.11.7"
  }
 },
 "nbformat": 4,
 "nbformat_minor": 5
}
